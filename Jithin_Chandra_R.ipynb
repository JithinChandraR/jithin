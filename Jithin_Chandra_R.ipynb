{
 "cells": [
  {
   "cell_type": "code",
   "execution_count": 1,
   "id": "e2ada5d8",
   "metadata": {},
   "outputs": [],
   "source": [
    "import pandas as pd\n",
    "import numpy as np\n",
    "import matplotlib.pyplot as plt\n",
    "import seaborn as sns"
   ]
  },
  {
   "cell_type": "code",
   "execution_count": 2,
   "id": "41ceb396",
   "metadata": {},
   "outputs": [
    {
     "data": {
      "text/html": [
       "<div>\n",
       "<style scoped>\n",
       "    .dataframe tbody tr th:only-of-type {\n",
       "        vertical-align: middle;\n",
       "    }\n",
       "\n",
       "    .dataframe tbody tr th {\n",
       "        vertical-align: top;\n",
       "    }\n",
       "\n",
       "    .dataframe thead th {\n",
       "        text-align: right;\n",
       "    }\n",
       "</style>\n",
       "<table border=\"1\" class=\"dataframe\">\n",
       "  <thead>\n",
       "    <tr style=\"text-align: right;\">\n",
       "      <th></th>\n",
       "      <th>Year</th>\n",
       "      <th>Price</th>\n",
       "    </tr>\n",
       "  </thead>\n",
       "  <tbody>\n",
       "    <tr>\n",
       "      <th>0</th>\n",
       "      <td>2018</td>\n",
       "      <td>465000</td>\n",
       "    </tr>\n",
       "    <tr>\n",
       "      <th>1</th>\n",
       "      <td>2019</td>\n",
       "      <td>755000</td>\n",
       "    </tr>\n",
       "    <tr>\n",
       "      <th>2</th>\n",
       "      <td>2019</td>\n",
       "      <td>700000</td>\n",
       "    </tr>\n",
       "    <tr>\n",
       "      <th>3</th>\n",
       "      <td>2018</td>\n",
       "      <td>465000</td>\n",
       "    </tr>\n",
       "    <tr>\n",
       "      <th>4</th>\n",
       "      <td>2018</td>\n",
       "      <td>465000</td>\n",
       "    </tr>\n",
       "  </tbody>\n",
       "</table>\n",
       "</div>"
      ],
      "text/plain": [
       "   Year   Price\n",
       "0  2018  465000\n",
       "1  2019  755000\n",
       "2  2019  700000\n",
       "3  2018  465000\n",
       "4  2018  465000"
      ]
     },
     "execution_count": 2,
     "metadata": {},
     "output_type": "execute_result"
    }
   ],
   "source": [
    "data=pd.read_csv(r\"C:\\Users\\chand\\Downloads\\car_age_price.csv\")\n",
    "data.head()"
   ]
  },
  {
   "cell_type": "markdown",
   "id": "8be24667",
   "metadata": {},
   "source": [
    "# EDA"
   ]
  },
  {
   "cell_type": "code",
   "execution_count": 3,
   "id": "565cb14a",
   "metadata": {},
   "outputs": [
    {
     "name": "stdout",
     "output_type": "stream",
     "text": [
      "<class 'pandas.core.frame.DataFrame'>\n",
      "RangeIndex: 112 entries, 0 to 111\n",
      "Data columns (total 2 columns):\n",
      " #   Column  Non-Null Count  Dtype\n",
      "---  ------  --------------  -----\n",
      " 0   Year    112 non-null    int64\n",
      " 1   Price   112 non-null    int64\n",
      "dtypes: int64(2)\n",
      "memory usage: 1.9 KB\n"
     ]
    }
   ],
   "source": [
    "data.info()"
   ]
  },
  {
   "cell_type": "code",
   "execution_count": 4,
   "id": "b7929e0d",
   "metadata": {},
   "outputs": [
    {
     "data": {
      "text/plain": [
       "Year     0\n",
       "Price    0\n",
       "dtype: int64"
      ]
     },
     "execution_count": 4,
     "metadata": {},
     "output_type": "execute_result"
    }
   ],
   "source": [
    "# Checking null values\n",
    "data.isna().sum()"
   ]
  },
  {
   "cell_type": "code",
   "execution_count": 34,
   "id": "a1f03577",
   "metadata": {},
   "outputs": [
    {
     "data": {
      "text/html": [
       "<div>\n",
       "<style scoped>\n",
       "    .dataframe tbody tr th:only-of-type {\n",
       "        vertical-align: middle;\n",
       "    }\n",
       "\n",
       "    .dataframe tbody tr th {\n",
       "        vertical-align: top;\n",
       "    }\n",
       "\n",
       "    .dataframe thead th {\n",
       "        text-align: right;\n",
       "    }\n",
       "</style>\n",
       "<table border=\"1\" class=\"dataframe\">\n",
       "  <thead>\n",
       "    <tr style=\"text-align: right;\">\n",
       "      <th></th>\n",
       "      <th>Year</th>\n",
       "      <th>Price</th>\n",
       "    </tr>\n",
       "  </thead>\n",
       "  <tbody>\n",
       "    <tr>\n",
       "      <th>count</th>\n",
       "      <td>112.000000</td>\n",
       "      <td>112.000000</td>\n",
       "    </tr>\n",
       "    <tr>\n",
       "      <th>mean</th>\n",
       "      <td>2016.669643</td>\n",
       "      <td>483866.044643</td>\n",
       "    </tr>\n",
       "    <tr>\n",
       "      <th>std</th>\n",
       "      <td>1.629616</td>\n",
       "      <td>91217.450533</td>\n",
       "    </tr>\n",
       "    <tr>\n",
       "      <th>min</th>\n",
       "      <td>2013.000000</td>\n",
       "      <td>300000.000000</td>\n",
       "    </tr>\n",
       "    <tr>\n",
       "      <th>25%</th>\n",
       "      <td>2015.000000</td>\n",
       "      <td>423750.000000</td>\n",
       "    </tr>\n",
       "    <tr>\n",
       "      <th>50%</th>\n",
       "      <td>2017.000000</td>\n",
       "      <td>500000.000000</td>\n",
       "    </tr>\n",
       "    <tr>\n",
       "      <th>75%</th>\n",
       "      <td>2017.000000</td>\n",
       "      <td>550000.000000</td>\n",
       "    </tr>\n",
       "    <tr>\n",
       "      <th>max</th>\n",
       "      <td>2020.000000</td>\n",
       "      <td>755000.000000</td>\n",
       "    </tr>\n",
       "  </tbody>\n",
       "</table>\n",
       "</div>"
      ],
      "text/plain": [
       "              Year          Price\n",
       "count   112.000000     112.000000\n",
       "mean   2016.669643  483866.044643\n",
       "std       1.629616   91217.450533\n",
       "min    2013.000000  300000.000000\n",
       "25%    2015.000000  423750.000000\n",
       "50%    2017.000000  500000.000000\n",
       "75%    2017.000000  550000.000000\n",
       "max    2020.000000  755000.000000"
      ]
     },
     "execution_count": 34,
     "metadata": {},
     "output_type": "execute_result"
    }
   ],
   "source": [
    "\n",
    "data.describe()"
   ]
  },
  {
   "cell_type": "code",
   "execution_count": 5,
   "id": "bd2feb62",
   "metadata": {},
   "outputs": [
    {
     "name": "stderr",
     "output_type": "stream",
     "text": [
      "C:\\ProgramData\\Anaconda3\\lib\\site-packages\\seaborn\\distributions.py:2619: FutureWarning: `distplot` is a deprecated function and will be removed in a future version. Please adapt your code to use either `displot` (a figure-level function with similar flexibility) or `histplot` (an axes-level function for histograms).\n",
      "  warnings.warn(msg, FutureWarning)\n"
     ]
    },
    {
     "data": {
      "image/png": "[encoded data removed]",
      "text/plain": [
       "<Figure size 640x480 with 2 Axes>"
      ]
     },
     "metadata": {},
     "output_type": "display_data"
    }
   ],
   "source": [
    "# Plotting the dataset to understand shape of the curve\n",
    "plt.subplot(1,2,1)\n",
    "data['Price'].plot(kind='hist')\n",
    "plt.title(\"Histogram\")\n",
    "plt.subplot(1,2,2)\n",
    "sns.distplot(data[\"Price\"])\n",
    "plt.title(\"Density plot\")\n",
    "plt.show()"
   ]
  },
  {
   "cell_type": "code",
   "execution_count": 6,
   "id": "91d0e8cc",
   "metadata": {},
   "outputs": [],
   "source": [
    "#sorting values with respect to year\n",
    "df =data.sort_values(by=['Year'])\n"
   ]
  },
  {
   "cell_type": "code",
   "execution_count": 7,
   "id": "7cbe0d65",
   "metadata": {},
   "outputs": [
    {
     "data": {
      "text/html": [
       "<div>\n",
       "<style scoped>\n",
       "    .dataframe tbody tr th:only-of-type {\n",
       "        vertical-align: middle;\n",
       "    }\n",
       "\n",
       "    .dataframe tbody tr th {\n",
       "        vertical-align: top;\n",
       "    }\n",
       "\n",
       "    .dataframe thead th {\n",
       "        text-align: right;\n",
       "    }\n",
       "</style>\n",
       "<table border=\"1\" class=\"dataframe\">\n",
       "  <thead>\n",
       "    <tr style=\"text-align: right;\">\n",
       "      <th></th>\n",
       "      <th>Year</th>\n",
       "      <th>Price</th>\n",
       "    </tr>\n",
       "  </thead>\n",
       "  <tbody>\n",
       "    <tr>\n",
       "      <th>53</th>\n",
       "      <td>2013</td>\n",
       "      <td>345000</td>\n",
       "    </tr>\n",
       "    <tr>\n",
       "      <th>50</th>\n",
       "      <td>2013</td>\n",
       "      <td>325000</td>\n",
       "    </tr>\n",
       "    <tr>\n",
       "      <th>73</th>\n",
       "      <td>2013</td>\n",
       "      <td>320000</td>\n",
       "    </tr>\n",
       "    <tr>\n",
       "      <th>81</th>\n",
       "      <td>2014</td>\n",
       "      <td>390000</td>\n",
       "    </tr>\n",
       "    <tr>\n",
       "      <th>56</th>\n",
       "      <td>2014</td>\n",
       "      <td>341000</td>\n",
       "    </tr>\n",
       "  </tbody>\n",
       "</table>\n",
       "</div>"
      ],
      "text/plain": [
       "    Year   Price\n",
       "53  2013  345000\n",
       "50  2013  325000\n",
       "73  2013  320000\n",
       "81  2014  390000\n",
       "56  2014  341000"
      ]
     },
     "execution_count": 7,
     "metadata": {},
     "output_type": "execute_result"
    }
   ],
   "source": [
    "# removing duplicates\n",
    "df=df.drop_duplicates()\n",
    "df.head()\n"
   ]
  },
  {
   "cell_type": "code",
   "execution_count": 8,
   "id": "f0e65b63",
   "metadata": {},
   "outputs": [
    {
     "data": {
      "text/plain": [
       "(58, 2)"
      ]
     },
     "execution_count": 8,
     "metadata": {},
     "output_type": "execute_result"
    }
   ],
   "source": [
    "df.shape"
   ]
  },
  {
   "cell_type": "code",
   "execution_count": 9,
   "id": "4e8c9cf0",
   "metadata": {},
   "outputs": [
    {
     "data": {
      "text/html": [
       "<div>\n",
       "<style scoped>\n",
       "    .dataframe tbody tr th:only-of-type {\n",
       "        vertical-align: middle;\n",
       "    }\n",
       "\n",
       "    .dataframe tbody tr th {\n",
       "        vertical-align: top;\n",
       "    }\n",
       "\n",
       "    .dataframe thead th {\n",
       "        text-align: right;\n",
       "    }\n",
       "</style>\n",
       "<table border=\"1\" class=\"dataframe\">\n",
       "  <thead>\n",
       "    <tr style=\"text-align: right;\">\n",
       "      <th></th>\n",
       "      <th>Year</th>\n",
       "      <th>Price</th>\n",
       "    </tr>\n",
       "  </thead>\n",
       "  <tbody>\n",
       "    <tr>\n",
       "      <th>count</th>\n",
       "      <td>58.000000</td>\n",
       "      <td>58.000000</td>\n",
       "    </tr>\n",
       "    <tr>\n",
       "      <th>mean</th>\n",
       "      <td>2016.568966</td>\n",
       "      <td>474448.224138</td>\n",
       "    </tr>\n",
       "    <tr>\n",
       "      <th>std</th>\n",
       "      <td>1.902096</td>\n",
       "      <td>105995.736551</td>\n",
       "    </tr>\n",
       "    <tr>\n",
       "      <th>min</th>\n",
       "      <td>2013.000000</td>\n",
       "      <td>300000.000000</td>\n",
       "    </tr>\n",
       "    <tr>\n",
       "      <th>25%</th>\n",
       "      <td>2015.000000</td>\n",
       "      <td>397000.000000</td>\n",
       "    </tr>\n",
       "    <tr>\n",
       "      <th>50%</th>\n",
       "      <td>2017.000000</td>\n",
       "      <td>475000.000000</td>\n",
       "    </tr>\n",
       "    <tr>\n",
       "      <th>75%</th>\n",
       "      <td>2018.000000</td>\n",
       "      <td>543750.000000</td>\n",
       "    </tr>\n",
       "    <tr>\n",
       "      <th>max</th>\n",
       "      <td>2020.000000</td>\n",
       "      <td>755000.000000</td>\n",
       "    </tr>\n",
       "  </tbody>\n",
       "</table>\n",
       "</div>"
      ],
      "text/plain": [
       "              Year          Price\n",
       "count    58.000000      58.000000\n",
       "mean   2016.568966  474448.224138\n",
       "std       1.902096  105995.736551\n",
       "min    2013.000000  300000.000000\n",
       "25%    2015.000000  397000.000000\n",
       "50%    2017.000000  475000.000000\n",
       "75%    2018.000000  543750.000000\n",
       "max    2020.000000  755000.000000"
      ]
     },
     "execution_count": 9,
     "metadata": {},
     "output_type": "execute_result"
    }
   ],
   "source": [
    "df.describe()"
   ]
  },
  {
   "cell_type": "code",
   "execution_count": 10,
   "id": "d09c1478",
   "metadata": {},
   "outputs": [
    {
     "data": {
      "image/png": "[encoded data removed]",
      "text/plain": [
       "<Figure size 640x480 with 1 Axes>"
      ]
     },
     "metadata": {},
     "output_type": "display_data"
    }
   ],
   "source": [
    "# checking outliers\n",
    "df.plot(kind='box')\n",
    "plt.show()"
   ]
  },
  {
   "cell_type": "code",
   "execution_count": 11,
   "id": "e8155204",
   "metadata": {},
   "outputs": [
    {
     "data": {
      "image/png": "[encoded data removed]",
      "text/plain": [
       "<Figure size 600x400 with 2 Axes>"
      ]
     },
     "metadata": {},
     "output_type": "display_data"
    }
   ],
   "source": [
    "# Finding correlation coefficient\n",
    "corr_matrix = df.corr()\n",
    "plt.subplots(figsize=(6,4))\n",
    "sns.heatmap(corr_matrix,annot=True,cmap='RdYlBu')\n",
    "plt.show()"
   ]
  },
  {
   "cell_type": "code",
   "execution_count": 12,
   "id": "05867704",
   "metadata": {},
   "outputs": [
    {
     "data": {
      "image/png": "[encoded data removed]",
      "text/plain": [
       "<Figure size 640x480 with 1 Axes>"
      ]
     },
     "metadata": {},
     "output_type": "display_data"
    }
   ],
   "source": [
    "# plotting scatter plot of the data\n",
    "plt.scatter(df['Year'],df['Price'])\n",
    "plt.show()"
   ]
  },
  {
   "cell_type": "markdown",
   "id": "d8a4d9cc",
   "metadata": {},
   "source": [
    "# Regression analysis"
   ]
  },
  {
   "cell_type": "code",
   "execution_count": 44,
   "id": "516dc074",
   "metadata": {},
   "outputs": [],
   "source": [
    "# Assigning values to independent and dependent variables\n",
    "x= df.drop(['Price'], axis = 1)\n",
    "y=df[\"Price\"]\n"
   ]
  },
  {
   "cell_type": "code",
   "execution_count": 45,
   "id": "4fe6daff",
   "metadata": {},
   "outputs": [],
   "source": [
    "# Importing Packages to perform Regression Analysis\n",
    "from sklearn.model_selection import train_test_split\n",
    "\n",
    "# Spliting the data into train data and test data\n",
    "x_train,x_test,y_train,y_test=train_test_split(x,y,random_state = 42,test_size=0.2)\n",
    "\n"
   ]
  },
  {
   "cell_type": "markdown",
   "id": "bf12a052",
   "metadata": {},
   "source": [
    "# 1- Linear Regression"
   ]
  },
  {
   "cell_type": "code",
   "execution_count": 46,
   "id": "739ca84f",
   "metadata": {},
   "outputs": [],
   "source": [
    "from sklearn.linear_model import LinearRegression\n"
   ]
  },
  {
   "cell_type": "code",
   "execution_count": 47,
   "id": "64b3ae56",
   "metadata": {},
   "outputs": [],
   "source": [
    "# Fitting the Linear regression model using training data\n",
    "lr=LinearRegression()\n",
    "model=lr.fit(x_train,y_train)\n",
    "predictions=model.predict(x_test)"
   ]
  },
  {
   "cell_type": "code",
   "execution_count": 48,
   "id": "4012b880",
   "metadata": {},
   "outputs": [
    {
     "data": {
      "text/plain": [
       "(array([44925.10098793]), -90119759.15751922)"
      ]
     },
     "execution_count": 48,
     "metadata": {},
     "output_type": "execute_result"
    }
   ],
   "source": [
    "lr.coef_ ,lr.intercept_"
   ]
  },
  {
   "cell_type": "code",
   "execution_count": 49,
   "id": "b05f0c01",
   "metadata": {},
   "outputs": [
    {
     "data": {
      "text/plain": [
       "<function matplotlib.pyplot.show(close=None, block=None)>"
      ]
     },
     "execution_count": 49,
     "metadata": {},
     "output_type": "execute_result"
    },
    {
     "data": {
      "image/png": "[encoded data removed]",
      "text/plain": [
       "<Figure size 640x480 with 1 Axes>"
      ]
     },
     "metadata": {},
     "output_type": "display_data"
    }
   ],
   "source": [
    "# Equation of the regression line\n",
    "line=lr.coef_*x + lr.intercept_ \n",
    "\n",
    "# ploting the regression line\n",
    "plt.scatter(x,y) \n",
    "plt.plot(x,line,c='red')\n",
    "plt.show()"
   ]
  },
  {
   "cell_type": "code",
   "execution_count": 50,
   "id": "a8729fa2",
   "metadata": {},
   "outputs": [
    {
     "name": "stdout",
     "output_type": "stream",
     "text": [
      "MeanSquareError : 4542614235.480889\n",
      "R Squared Value :  0.6325643791497111\n"
     ]
    }
   ],
   "source": [
    "# Finding Meansquare Erorr and r2 of the linear model\n",
    "\n",
    "from sklearn.metrics import mean_squared_error,r2_score\n",
    "print(\"MeanSquareError :\",mean_squared_error(y_test,predictions))\n",
    "print('R Squared Value : ',r2_score(y_test,predictions))"
   ]
  },
  {
   "cell_type": "code",
   "execution_count": 51,
   "id": "090b3c4e",
   "metadata": {},
   "outputs": [
    {
     "data": {
      "text/plain": [
       "array([314469.13117453, 359394.23216246, 494169.53512624, 404319.33315039,\n",
       "       539094.63611417, 584019.73710208, 494169.53512624, 449244.43413831,\n",
       "       539094.63611417, 404319.33315039])"
      ]
     },
     "execution_count": 51,
     "metadata": {},
     "output_type": "execute_result"
    }
   ],
   "source": [
    "# predicting first 10 values using linear model\n",
    "predictions[0:10]"
   ]
  },
  {
   "cell_type": "markdown",
   "id": "9b6fa4cc",
   "metadata": {},
   "source": [
    "# Predicting the price in 2022 using the model"
   ]
  },
  {
   "cell_type": "code",
   "execution_count": 52,
   "id": "8fb7c0fe",
   "metadata": {},
   "outputs": [
    {
     "name": "stderr",
     "output_type": "stream",
     "text": [
      "C:\\ProgramData\\Anaconda3\\lib\\site-packages\\sklearn\\base.py:450: UserWarning: X does not have valid feature names, but LinearRegression was fitted with feature names\n",
      "  warnings.warn(\n"
     ]
    },
    {
     "data": {
      "text/plain": [
       "array([718795.04006585])"
      ]
     },
     "execution_count": 52,
     "metadata": {},
     "output_type": "execute_result"
    }
   ],
   "source": [
    "lr.predict([[2022]])"
   ]
  },
  {
   "cell_type": "code",
   "execution_count": 55,
   "id": "2ad4d3de",
   "metadata": {},
   "outputs": [
    {
     "name": "stdout",
     "output_type": "stream",
     "text": [
      "The predicted price of car in 2022 will be :  [718795.04006585]\n"
     ]
    },
    {
     "name": "stderr",
     "output_type": "stream",
     "text": [
      "C:\\ProgramData\\Anaconda3\\lib\\site-packages\\sklearn\\base.py:450: UserWarning: X does not have valid feature names, but LinearRegression was fitted with feature names\n",
      "  warnings.warn(\n"
     ]
    }
   ],
   "source": [
    "print(\"The predicted price of car in 2022 will be : \",lr.predict([[2022]]))"
   ]
  },
  {
   "cell_type": "markdown",
   "id": "3ae81db8",
   "metadata": {},
   "source": [
    "# 2- Lasso Regression"
   ]
  },
  {
   "cell_type": "code",
   "execution_count": 56,
   "id": "0473190c",
   "metadata": {},
   "outputs": [],
   "source": [
    "# Importing Packages to perform Lasso Regression Analysis\n",
    "from sklearn.linear_model import Lasso"
   ]
  },
  {
   "cell_type": "code",
   "execution_count": 57,
   "id": "35f417ff",
   "metadata": {},
   "outputs": [],
   "source": [
    "# Fitting the Lasso regression model using training data\n",
    "model=Lasso(alpha=1.0)\n",
    "model.fit(x_train,y_train)\n",
    "prediction=model.predict(x_test)"
   ]
  },
  {
   "cell_type": "code",
   "execution_count": 61,
   "id": "cc5faf36",
   "metadata": {},
   "outputs": [
    {
     "data": {
      "text/plain": [
       "(array([44924.81064764]), -90119173.64215146)"
      ]
     },
     "execution_count": 61,
     "metadata": {},
     "output_type": "execute_result"
    }
   ],
   "source": [
    "model.coef_ ,model.intercept_"
   ]
  },
  {
   "cell_type": "code",
   "execution_count": 58,
   "id": "25c47c52",
   "metadata": {},
   "outputs": [
    {
     "data": {
      "text/plain": [
       "array([314470.19154775, 359395.00219539, 494169.43413831, 404319.81284304,\n",
       "       539094.24478595, 584019.0554336 , 494169.43413831, 449244.62349068,\n",
       "       539094.24478595, 404319.81284304])"
      ]
     },
     "execution_count": 58,
     "metadata": {},
     "output_type": "execute_result"
    }
   ],
   "source": [
    "# predicting first 10 values using linear model\n",
    "prediction[0:10]"
   ]
  },
  {
   "cell_type": "code",
   "execution_count": 59,
   "id": "c04c10e6",
   "metadata": {},
   "outputs": [
    {
     "name": "stdout",
     "output_type": "stream",
     "text": [
      "MeanSquareError : 4542614927.434173\n",
      "R Squared Value :  0.632564323180115\n"
     ]
    }
   ],
   "source": [
    "# Finding Meansquare Erorr and r2 of the Lasso regression model\n",
    "from sklearn.metrics import mean_squared_error,r2_score\n",
    "print(\"MeanSquareError :\",mean_squared_error(y_test,prediction))\n",
    "print('R Squared Value : ',r2_score(y_test,prediction))"
   ]
  },
  {
   "cell_type": "markdown",
   "id": "9b9f8a7f",
   "metadata": {},
   "source": [
    "# Predicting the price of car in 2022 using Lasso Regression model"
   ]
  },
  {
   "cell_type": "code",
   "execution_count": 64,
   "id": "35f9c595",
   "metadata": {},
   "outputs": [
    {
     "name": "stderr",
     "output_type": "stream",
     "text": [
      "C:\\ProgramData\\Anaconda3\\lib\\site-packages\\sklearn\\base.py:450: UserWarning: X does not have valid feature names, but Lasso was fitted with feature names\n",
      "  warnings.warn(\n"
     ]
    }
   ],
   "source": [
    "pred=model.predict([[2022]])\n"
   ]
  },
  {
   "cell_type": "code",
   "execution_count": 65,
   "id": "11e7b478",
   "metadata": {},
   "outputs": [
    {
     "name": "stdout",
     "output_type": "stream",
     "text": [
      "The predicted price of car in 2022 will be :  [718793.48737651]\n"
     ]
    }
   ],
   "source": [
    "print(\"The predicted price of car in 2022 will be : \",pred)"
   ]
  },
  {
   "cell_type": "raw",
   "id": "2903f14b",
   "metadata": {},
   "source": [
    "\n",
    "# Since the MSE of  Lasso regression is less than MSE of Linear Regression, performance of Lasso model is better than Linear Model. \n",
    "\n",
    "\n",
    "\n",
    "  "
   ]
  },
  {
   "cell_type": "code",
   "execution_count": null,
   "id": "32ee4d3a",
   "metadata": {},
   "outputs": [],
   "source": []
  }
 ],
 "metadata": {
  "kernelspec": {
   "display_name": "Python 3 (ipykernel)",
   "language": "python",
   "name": "python3"
  },
  "language_info": {
   "codemirror_mode": {
    "name": "ipython",
    "version": 3
   },
   "file_extension": ".py",
   "mimetype": "text/x-python",
   "name": "python",
   "nbconvert_exporter": "python",
   "pygments_lexer": "ipython3",
   "version": "3.9.13"
  }
 },
 "nbformat": 4,
 "nbformat_minor": 5
}
